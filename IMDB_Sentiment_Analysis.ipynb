{
  "nbformat": 4,
  "nbformat_minor": 0,
  "metadata": {
    "colab": {
      "name": "IMDB_Sentiment_Analysis.ipynb",
      "provenance": [],
      "collapsed_sections": [],
      "authorship_tag": "ABX9TyNrldn15sM7LY0gJDKHjnO3"
    },
    "kernelspec": {
      "name": "python3",
      "display_name": "Python 3"
    }
  },
  "cells": [
    {
      "cell_type": "code",
      "metadata": {
        "id": "YP2u1dk8Mvq3",
        "colab_type": "code",
        "colab": {
          "base_uri": "https://localhost:8080/",
          "height": 121
        },
        "outputId": "5e4ed623-6fdf-4abf-8850-f9b54871f758"
      },
      "source": [
        "from google.colab import drive\n",
        "drive.mount('/content/drive')"
      ],
      "execution_count": 1,
      "outputs": [
        {
          "output_type": "stream",
          "text": [
            "Go to this URL in a browser: https://accounts.google.com/o/oauth2/auth?client_id=947318989803-6bn6qk8qdgf4n4g3pfee6491hc0brc4i.apps.googleusercontent.com&redirect_uri=urn%3aietf%3awg%3aoauth%3a2.0%3aoob&response_type=code&scope=email%20https%3a%2f%2fwww.googleapis.com%2fauth%2fdocs.test%20https%3a%2f%2fwww.googleapis.com%2fauth%2fdrive%20https%3a%2f%2fwww.googleapis.com%2fauth%2fdrive.photos.readonly%20https%3a%2f%2fwww.googleapis.com%2fauth%2fpeopleapi.readonly\n",
            "\n",
            "Enter your authorization code:\n",
            "··········\n",
            "Mounted at /content/drive\n"
          ],
          "name": "stdout"
        }
      ]
    },
    {
      "cell_type": "code",
      "metadata": {
        "id": "6qeL-VFsNTaR",
        "colab_type": "code",
        "colab": {
          "base_uri": "https://localhost:8080/",
          "height": 34
        },
        "outputId": "295aa0e0-a14e-4e02-8dea-cf703b1504f6"
      },
      "source": [
        "import os\n",
        "import pandas as pd\n",
        "import numpy as np\n",
        "from keras.models import Sequential, model_from_json\n",
        "from keras.layers import Embedding,Bidirectional,Dense,Conv1D,Flatten,LSTM,GRU,GlobalMaxPooling1D,MaxPooling1D,Dropout\n",
        "from keras.preprocessing.text import Tokenizer\n",
        "from keras.preprocessing.sequence import pad_sequences\n",
        "from sklearn.manifold import TSNE\n",
        "from sklearn.metrics import confusion_matrix, classification_report\n",
        "import matplotlib.pyplot as plt\n",
        "import h5py"
      ],
      "execution_count": 2,
      "outputs": [
        {
          "output_type": "stream",
          "text": [
            "Using TensorFlow backend.\n"
          ],
          "name": "stderr"
        }
      ]
    },
    {
      "cell_type": "code",
      "metadata": {
        "id": "aXQA_3qFNnd1",
        "colab_type": "code",
        "colab": {}
      },
      "source": [
        "os.chdir('drive/My Drive/IMDB Sentiment Analysis/')"
      ],
      "execution_count": 3,
      "outputs": []
    },
    {
      "cell_type": "code",
      "metadata": {
        "id": "PyPj59qDNKTj",
        "colab_type": "code",
        "colab": {}
      },
      "source": [
        "# Reading test, train, and, validation set\n",
        " \n",
        "train = pd.read_csv('Train.csv')\n",
        "test = pd.read_csv('Test.csv')\n",
        "validation = pd.read_csv('Valid.csv')\n",
        "dataframeIMBD = pd.concat([train, validation, test], axis=0)"
      ],
      "execution_count": 4,
      "outputs": []
    },
    {
      "cell_type": "code",
      "metadata": {
        "id": "Va5_vkZPOQ2-",
        "colab_type": "code",
        "colab": {
          "base_uri": "https://localhost:8080/",
          "height": 34
        },
        "outputId": "9b4a123e-9e19-437b-81a9-956dac18e0ef"
      },
      "source": [
        "dataframeIMBD.shape"
      ],
      "execution_count": 5,
      "outputs": [
        {
          "output_type": "execute_result",
          "data": {
            "text/plain": [
              "(50000, 2)"
            ]
          },
          "metadata": {
            "tags": []
          },
          "execution_count": 5
        }
      ]
    },
    {
      "cell_type": "code",
      "metadata": {
        "id": "HbWxbIVMm72L",
        "colab_type": "code",
        "colab": {
          "base_uri": "https://localhost:8080/",
          "height": 67
        },
        "outputId": "03da42a4-0531-4741-b7e4-2afe9c46155e"
      },
      "source": [
        "dataframeIMBD[dataframeIMBD.label==0].count()\n",
        "#Equally balanced dataset"
      ],
      "execution_count": 13,
      "outputs": [
        {
          "output_type": "execute_result",
          "data": {
            "text/plain": [
              "text     25000\n",
              "label    25000\n",
              "dtype: int64"
            ]
          },
          "metadata": {
            "tags": []
          },
          "execution_count": 13
        }
      ]
    },
    {
      "cell_type": "code",
      "metadata": {
        "id": "oT5FjeJbQh4q",
        "colab_type": "code",
        "colab": {
          "base_uri": "https://localhost:8080/",
          "height": 218
        },
        "outputId": "e45551b3-ab51-40d6-ed55-834d67ea7fec"
      },
      "source": [
        "sentences=dataframeIMBD['text']\n",
        "sentences"
      ],
      "execution_count": 8,
      "outputs": [
        {
          "output_type": "execute_result",
          "data": {
            "text/plain": [
              "0       I grew up (b. 1965) watching and loving the Th...\n",
              "1       When I put this movie in my DVD player, and sa...\n",
              "2       Why do people who do not know what a particula...\n",
              "3       Even though I have great interest in Biblical ...\n",
              "4       Im a die hard Dads Army fan and nothing will e...\n",
              "                              ...                        \n",
              "4995    This is the kind of picture John Lassiter woul...\n",
              "4996    A MUST SEE! I saw WHIPPED at a press screening...\n",
              "4997    NBC should be ashamed. I wouldn't allow my chi...\n",
              "4998    This movie is a clumsy mishmash of various gho...\n",
              "4999    Formula movie about the illegitimate son of a ...\n",
              "Name: text, Length: 50000, dtype: object"
            ]
          },
          "metadata": {
            "tags": []
          },
          "execution_count": 8
        }
      ]
    },
    {
      "cell_type": "code",
      "metadata": {
        "id": "ZL4Vg9-_TKoV",
        "colab_type": "code",
        "colab": {}
      },
      "source": [
        "Y=dataframeIMBD['label']"
      ],
      "execution_count": 9,
      "outputs": []
    },
    {
      "cell_type": "code",
      "metadata": {
        "id": "7RNOaCfsT4tf",
        "colab_type": "code",
        "colab": {}
      },
      "source": [
        "tokenizer = Tokenizer(num_words = 4000)\n",
        "tokenizer.fit_on_texts(sentences)     #Updates internal vocabulary based on a list of texts.\n",
        "sequence = tokenizer.texts_to_sequences(sentences) #Transforms each text in texts to a sequence of integers."
      ],
      "execution_count": 10,
      "outputs": []
    },
    {
      "cell_type": "code",
      "metadata": {
        "id": "_2TFz58rV3ym",
        "colab_type": "code",
        "colab": {
          "base_uri": "https://localhost:8080/",
          "height": 34
        },
        "outputId": "c9bff8d9-0faf-45ff-a467-9861311692b7"
      },
      "source": [
        "index_of_words = tokenizer.word_index\n",
        "print(len(index_of_words))"
      ],
      "execution_count": 11,
      "outputs": [
        {
          "output_type": "stream",
          "text": [
            "124252\n"
          ],
          "name": "stdout"
        }
      ]
    },
    {
      "cell_type": "code",
      "metadata": {
        "id": "z-9yqrHzbSjq",
        "colab_type": "code",
        "colab": {
          "base_uri": "https://localhost:8080/",
          "height": 185
        },
        "outputId": "b138fa9f-9de2-4c2e-f98c-a1879d6cc8e5"
      },
      "source": [
        "list(index_of_words.items())[:10]"
      ],
      "execution_count": 12,
      "outputs": [
        {
          "output_type": "execute_result",
          "data": {
            "text/plain": [
              "[('the', 1),\n",
              " ('and', 2),\n",
              " ('a', 3),\n",
              " ('of', 4),\n",
              " ('to', 5),\n",
              " ('is', 6),\n",
              " ('br', 7),\n",
              " ('in', 8),\n",
              " ('it', 9),\n",
              " ('i', 10)]"
            ]
          },
          "metadata": {
            "tags": []
          },
          "execution_count": 12
        }
      ]
    },
    {
      "cell_type": "code",
      "metadata": {
        "id": "ZtXI4aF9bVdo",
        "colab_type": "code",
        "colab": {}
      },
      "source": [
        "max_seq_len=1000\n",
        "padded_seq = pad_sequences(sequence , maxlen = max_seq_len, padding='pre', truncating='post', value=0.0 )"
      ],
      "execution_count": 13,
      "outputs": []
    },
    {
      "cell_type": "code",
      "metadata": {
        "id": "4b84laN3GwH_",
        "colab_type": "code",
        "colab": {
          "base_uri": "https://localhost:8080/",
          "height": 134
        },
        "outputId": "9cfa9e5c-7c84-4701-fe0f-26dda36f0d0f"
      },
      "source": [
        "padded_seq"
      ],
      "execution_count": 14,
      "outputs": [
        {
          "output_type": "execute_result",
          "data": {
            "text/plain": [
              "array([[   0,    0,    0, ...,    3,  642,    4],\n",
              "       [   0,    0,    0, ...,   38,   20,  240],\n",
              "       [   0,    0,    0, ...,    1,   19, 2261],\n",
              "       ...,\n",
              "       [   0,    0,    0, ...,  397,   38, 1033],\n",
              "       [   0,    0,    0, ...,  867,  867,  867],\n",
              "       [   0,    0,    0, ...,   23, 1267, 2615]], dtype=int32)"
            ]
          },
          "metadata": {
            "tags": []
          },
          "execution_count": 14
        }
      ]
    },
    {
      "cell_type": "code",
      "metadata": {
        "id": "e0NSIX0pGypb",
        "colab_type": "code",
        "colab": {}
      },
      "source": [
        "\n",
        "from keras.utils import to_categorical\n",
        "\n",
        "#Y = to_categorical(Y)"
      ],
      "execution_count": 15,
      "outputs": []
    },
    {
      "cell_type": "code",
      "metadata": {
        "id": "vwGOdXUgH9Cv",
        "colab_type": "code",
        "colab": {}
      },
      "source": [
        "from sklearn.model_selection import train_test_split\n",
        "\n",
        "X_train,X_test,Y_train,Y_test = train_test_split(padded_seq,Y ,train_size = 0.7)"
      ],
      "execution_count": 16,
      "outputs": []
    },
    {
      "cell_type": "code",
      "metadata": {
        "id": "_oNIi0OCIDqL",
        "colab_type": "code",
        "colab": {
          "base_uri": "https://localhost:8080/",
          "height": 34
        },
        "outputId": "6ddaa54c-78a7-4b59-9629-c58fdc1c2076"
      },
      "source": [
        "Y_train.shape"
      ],
      "execution_count": 17,
      "outputs": [
        {
          "output_type": "execute_result",
          "data": {
            "text/plain": [
              "(35000,)"
            ]
          },
          "metadata": {
            "tags": []
          },
          "execution_count": 17
        }
      ]
    },
    {
      "cell_type": "code",
      "metadata": {
        "id": "EJxcROprLMpD",
        "colab_type": "code",
        "colab": {}
      },
      "source": [
        "# !wget http://nlp.stanford.edu/data/glove.6B.zip\n",
        "# !unzip -q glove.6B.zip"
      ],
      "execution_count": 18,
      "outputs": []
    },
    {
      "cell_type": "code",
      "metadata": {
        "id": "Ch-4s_98Ibq3",
        "colab_type": "code",
        "colab": {
          "base_uri": "https://localhost:8080/",
          "height": 34
        },
        "outputId": "f48d55d3-46e8-4ead-dcb6-3691272c8732"
      },
      "source": [
        "f = open('glove.6B.100d.txt')\n",
        "embedd_index = {}\n",
        "for line in f:\n",
        "    val = line.split()\n",
        "    word = val[0]\n",
        "    coff = np.asarray(val[1:],dtype = 'float')\n",
        "    embedd_index[word] = coff\n",
        "\n",
        "f.close()\n",
        "print('Found %s word vectors.' % len(embedd_index))"
      ],
      "execution_count": 19,
      "outputs": [
        {
          "output_type": "stream",
          "text": [
            "Found 400000 word vectors.\n"
          ],
          "name": "stdout"
        }
      ]
    },
    {
      "cell_type": "code",
      "metadata": {
        "id": "tbZCGGddNyqc",
        "colab_type": "code",
        "colab": {
          "base_uri": "https://localhost:8080/",
          "height": 353
        },
        "outputId": "aceee753-103a-40c6-ead3-49391434f020"
      },
      "source": [
        "embedd_index['awesome']"
      ],
      "execution_count": 20,
      "outputs": [
        {
          "output_type": "execute_result",
          "data": {
            "text/plain": [
              "array([-0.18008  ,  0.084106 ,  0.72864  , -0.77307  , -0.60034  ,\n",
              "       -0.19223  , -0.22914  ,  0.42666  , -0.12717  , -0.0065352,\n",
              "        0.83655  , -0.065268 , -0.16575  , -0.88205  ,  0.1876   ,\n",
              "        0.076791 , -0.27967  ,  0.91433  , -0.39398  ,  0.66955  ,\n",
              "        0.54149  ,  0.32752  , -0.094895 , -0.51644  ,  0.90136  ,\n",
              "        0.54181  ,  0.26746  ,  0.68016  ,  0.22842  , -0.73537  ,\n",
              "       -0.20871  , -0.059895 ,  0.24477  , -0.037463 ,  0.068086 ,\n",
              "       -0.42048  , -0.94419  ,  0.34877  ,  0.11188  , -0.52052  ,\n",
              "        0.53379  ,  0.82981  ,  0.36603  , -0.095496 , -0.05701  ,\n",
              "        0.61821  ,  0.58893  , -0.025414 ,  0.038517 , -0.64536  ,\n",
              "       -0.32316  , -0.13728  ,  0.73336  ,  0.16069  ,  0.1331   ,\n",
              "       -1.1587   ,  0.82379  ,  0.47982  ,  0.25612  , -0.095601 ,\n",
              "        0.21236  ,  0.48335  , -0.57491  ,  0.12975  ,  0.3161   ,\n",
              "       -0.078513 ,  0.33765  , -0.28684  , -0.15185  ,  0.14687  ,\n",
              "        0.68358  , -0.30267  , -0.13771  ,  0.06876  ,  0.31156  ,\n",
              "        0.57659  , -0.31029  , -0.10508  ,  0.4543   , -0.0074264,\n",
              "        0.3042   , -0.02276  ,  0.017446 ,  0.28472  , -0.35168  ,\n",
              "       -0.0090702,  0.24685  , -0.14356  , -0.37145  , -0.35959  ,\n",
              "       -0.17115  , -0.069143 ,  0.33538  ,  0.1673   ,  0.3042   ,\n",
              "       -0.49773  , -0.8218   , -0.70383  ,  0.094282 ,  0.80785  ])"
            ]
          },
          "metadata": {
            "tags": []
          },
          "execution_count": 20
        }
      ]
    },
    {
      "cell_type": "code",
      "metadata": {
        "id": "M4zPeLQRN4Ew",
        "colab_type": "code",
        "colab": {}
      },
      "source": [
        "embed_num_dims = 100 #for 100 dimensional word vector\n",
        "\n",
        "embedding_matrix = np.zeros((len(index_of_words) + 1, embed_num_dims))\n",
        "\n",
        "tokens = []\n",
        "labels = []\n",
        "\n",
        "for word,i in index_of_words.items():\n",
        "    temp = embedd_index.get(word)\n",
        "    if temp is not None:\n",
        "        embedding_matrix[i] = temp\n",
        "        \n",
        "#for plotting\n",
        "        tokens.append(embedding_matrix[i])\n",
        "        labels.append(word)\n"
      ],
      "execution_count": 21,
      "outputs": []
    },
    {
      "cell_type": "code",
      "metadata": {
        "id": "4BX8LziKQD-T",
        "colab_type": "code",
        "colab": {
          "base_uri": "https://localhost:8080/",
          "height": 34
        },
        "outputId": "e86f918d-9db4-4f39-d2b3-c7a9c981fc3a"
      },
      "source": [
        "embedding_matrix.shape"
      ],
      "execution_count": 22,
      "outputs": [
        {
          "output_type": "execute_result",
          "data": {
            "text/plain": [
              "(124253, 100)"
            ]
          },
          "metadata": {
            "tags": []
          },
          "execution_count": 22
        }
      ]
    },
    {
      "cell_type": "code",
      "metadata": {
        "id": "s0d292yNQKIm",
        "colab_type": "code",
        "colab": {
          "base_uri": "https://localhost:8080/",
          "height": 935
        },
        "outputId": "7d131395-c860-4f34-e9d8-6e24466e5b65"
      },
      "source": [
        "#TSNE algorithm used to visualize word embeddings having huge amount (100) dimensions\n",
        "\n",
        "def tsne():\n",
        "    \n",
        "    tsne_model = TSNE(perplexity=40, n_components=2, init='pca', n_iter=2500, random_state=23)\n",
        "    new_values = tsne_model.fit_transform(tokens[:200])\n",
        "    print(new_values.shape)\n",
        "    \n",
        "    x = []\n",
        "    y = []\n",
        "    for value in new_values:\n",
        "        x.append(value[0])\n",
        "        y.append(value[1])\n",
        "        \n",
        "    plt.figure(figsize=(16,16)) \n",
        "    for i in range(len(x)):\n",
        "        plt.scatter(x[i],y[i])\n",
        "        plt.annotate(labels[i],\n",
        "                     xy=(x[i], y[i]),\n",
        "                     xytext=(5, 2),\n",
        "                     textcoords='offset points',\n",
        "                     ha='right',\n",
        "                     va='bottom')\n",
        "    plt.savefig('word_vectors.png')\n",
        "    plt.show()\n",
        "    \n",
        "        \n",
        "tsne()\n"
      ],
      "execution_count": 23,
      "outputs": [
        {
          "output_type": "stream",
          "text": [
            "(200, 2)\n"
          ],
          "name": "stdout"
        },
        {
          "output_type": "display_data",
          "data": {
            "image/png": "[encoded data removed]",
            "text/plain": [
              "<Figure size 1152x1152 with 1 Axes>"
            ]
          },
          "metadata": {
            "tags": [],
            "needs_background": "light"
          }
        }
      ]
    },
    {
      "cell_type": "code",
      "metadata": {
        "id": "WFNEYvKDQLLq",
        "colab_type": "code",
        "colab": {}
      },
      "source": [
        "#Embedding layer before the actaul BLSTM \n",
        "embedd_layer = Embedding(len(index_of_words) + 1 , embed_num_dims , input_length = max_seq_len , weights = [embedding_matrix])"
      ],
      "execution_count": 24,
      "outputs": []
    },
    {
      "cell_type": "markdown",
      "metadata": {
        "id": "NqF2s9iuZKwi",
        "colab_type": "text"
      },
      "source": [
        "#LSTM"
      ]
    },
    {
      "cell_type": "markdown",
      "metadata": {
        "id": "ACHuSEIUNfl3",
        "colab_type": "text"
      },
      "source": [
        "**dropout VS recurrent_dropout**\n",
        "\n",
        "Regular dropout is applied on the inputs and/or the outputs, meaning the vertical arrows from x_t and to h_t. If you add it as an argument to your layer, it will mask the inputs; you can add a Dropout layer after your recurrent layer to mask the outputs as well. Recurrent dropout masks (or \"drops\") the connections between the recurrent units; that would be the horizontal arrows in your picture."
      ]
    },
    {
      "cell_type": "code",
      "metadata": {
        "id": "VDAm9LSuQ24A",
        "colab_type": "code",
        "colab": {}
      },
      "source": [
        "model = Sequential()\n",
        "model.add(embedd_layer)\n",
        "model.add(Bidirectional(LSTM(30 , return_sequences = True , dropout = 0.1 , recurrent_dropout = 0.1)))\n",
        "model.add(GlobalMaxPooling1D())  #from 2D to 1D\n",
        "model.add(Dense(30,activation = 'relu'))\n",
        "model.add(Dropout(0.2))\n",
        "model.add(Dense(2,activation = 'sigmoid'))"
      ],
      "execution_count": 84,
      "outputs": []
    },
    {
      "cell_type": "code",
      "metadata": {
        "id": "hEIq5JkxRM43",
        "colab_type": "code",
        "colab": {
          "base_uri": "https://localhost:8080/",
          "height": 353
        },
        "outputId": "8cbd9252-f00c-4c3a-e38e-b0e9f4dbe432"
      },
      "source": [
        "model.summary()"
      ],
      "execution_count": 85,
      "outputs": [
        {
          "output_type": "stream",
          "text": [
            "Model: \"sequential_6\"\n",
            "_________________________________________________________________\n",
            "Layer (type)                 Output Shape              Param #   \n",
            "=================================================================\n",
            "embedding_1 (Embedding)      (None, 1000, 100)         12425300  \n",
            "_________________________________________________________________\n",
            "bidirectional_2 (Bidirection (None, 1000, 60)          31440     \n",
            "_________________________________________________________________\n",
            "global_max_pooling1d_2 (Glob (None, 60)                0         \n",
            "_________________________________________________________________\n",
            "dense_6 (Dense)              (None, 30)                1830      \n",
            "_________________________________________________________________\n",
            "dropout_2 (Dropout)          (None, 30)                0         \n",
            "_________________________________________________________________\n",
            "dense_7 (Dense)              (None, 2)                 62        \n",
            "=================================================================\n",
            "Total params: 12,458,632\n",
            "Trainable params: 12,458,632\n",
            "Non-trainable params: 0\n",
            "_________________________________________________________________\n"
          ],
          "name": "stdout"
        }
      ]
    },
    {
      "cell_type": "code",
      "metadata": {
        "id": "dRL3SmqTRNdu",
        "colab_type": "code",
        "colab": {}
      },
      "source": [
        "from keras.models import model_from_json\n",
        "def load():\n",
        "    load_json = open(\"weights.json\",'r')\n",
        "    loaded = load_json.read()\n",
        "    load_json.close()\n",
        "    load = model_from_json(loaded)\n",
        "    load.load_weights(\"model.h5\")\n",
        "    print(\"Loaded\")\n",
        "    model = load"
      ],
      "execution_count": 86,
      "outputs": []
    },
    {
      "cell_type": "code",
      "metadata": {
        "id": "pHxdyrCuRabg",
        "colab_type": "code",
        "colab": {}
      },
      "source": [
        "from keras.optimizers import Adam\n",
        "add = Adam(lr = 0.01)\n",
        "model.compile(loss = 'sparse_categorical_crossentropy' , optimizer = add , metrics = ['accuracy'])"
      ],
      "execution_count": 87,
      "outputs": []
    },
    {
      "cell_type": "code",
      "metadata": {
        "id": "VCzJALa-RjC-",
        "colab_type": "code",
        "colab": {
          "base_uri": "https://localhost:8080/",
          "height": 423
        },
        "outputId": "f56445b7-9742-4073-cd9e-353fe0dab2d3"
      },
      "source": [
        "hist = model.fit(X_train,Y_train,epochs = 10 , batch_size = 512, validation_data = (X_test,Y_test))"
      ],
      "execution_count": 88,
      "outputs": [
        {
          "output_type": "stream",
          "text": [
            "/usr/local/lib/python3.6/dist-packages/tensorflow/python/framework/indexed_slices.py:434: UserWarning: Converting sparse IndexedSlices to a dense Tensor of unknown shape. This may consume a large amount of memory.\n",
            "  \"Converting sparse IndexedSlices to a dense Tensor of unknown shape. \"\n"
          ],
          "name": "stderr"
        },
        {
          "output_type": "stream",
          "text": [
            "Train on 35000 samples, validate on 15000 samples\n",
            "Epoch 1/10\n",
            "35000/35000 [==============================] - 602s 17ms/step - loss: 0.3329 - accuracy: 0.8512 - val_loss: 0.2617 - val_accuracy: 0.8946\n",
            "Epoch 2/10\n",
            "35000/35000 [==============================] - 600s 17ms/step - loss: 0.2037 - accuracy: 0.9248 - val_loss: 0.2509 - val_accuracy: 0.9008\n",
            "Epoch 3/10\n",
            "35000/35000 [==============================] - 593s 17ms/step - loss: 0.1509 - accuracy: 0.9491 - val_loss: 0.2592 - val_accuracy: 0.9040\n",
            "Epoch 4/10\n",
            "35000/35000 [==============================] - 592s 17ms/step - loss: 0.1240 - accuracy: 0.9593 - val_loss: 0.2964 - val_accuracy: 0.8947\n",
            "Epoch 5/10\n",
            "35000/35000 [==============================] - 593s 17ms/step - loss: 0.1023 - accuracy: 0.9663 - val_loss: 0.3095 - val_accuracy: 0.9026\n",
            "Epoch 6/10\n",
            "35000/35000 [==============================] - 596s 17ms/step - loss: 0.0867 - accuracy: 0.9729 - val_loss: 0.3317 - val_accuracy: 0.9030\n",
            "Epoch 7/10\n",
            "35000/35000 [==============================] - 597s 17ms/step - loss: 0.0664 - accuracy: 0.9791 - val_loss: 0.3429 - val_accuracy: 0.9020\n",
            "Epoch 8/10\n",
            "35000/35000 [==============================] - 593s 17ms/step - loss: 0.0558 - accuracy: 0.9833 - val_loss: 0.3603 - val_accuracy: 0.9025\n",
            "Epoch 9/10\n",
            "35000/35000 [==============================] - 598s 17ms/step - loss: 0.0496 - accuracy: 0.9847 - val_loss: 0.3953 - val_accuracy: 0.9007\n",
            "Epoch 10/10\n",
            "35000/35000 [==============================] - 602s 17ms/step - loss: 0.0472 - accuracy: 0.9849 - val_loss: 0.4018 - val_accuracy: 0.8943\n"
          ],
          "name": "stdout"
        }
      ]
    },
    {
      "cell_type": "code",
      "metadata": {
        "id": "Fp7fuenhrKbp",
        "colab_type": "code",
        "colab": {
          "base_uri": "https://localhost:8080/",
          "height": 34
        },
        "outputId": "f12ef3dd-e1b1-4bbd-b6e8-db2e497bf1ea"
      },
      "source": [
        "#Saving model\n",
        "\n",
        "# serialize model to JSON\n",
        "model_json = model.to_json()\n",
        "with open(\"model.json\", \"w\") as json_file:\n",
        "    json_file.write(model_json)\n",
        "# serialize weights to HDF5\n",
        "model.save_weights(\"model.h5\")\n",
        "print(\"Saved model to disk\")"
      ],
      "execution_count": 91,
      "outputs": [
        {
          "output_type": "stream",
          "text": [
            "Saved model to disk\n"
          ],
          "name": "stdout"
        }
      ]
    },
    {
      "cell_type": "code",
      "metadata": {
        "id": "LkgxfLFxxlPB",
        "colab_type": "code",
        "colab": {
          "base_uri": "https://localhost:8080/",
          "height": 295
        },
        "outputId": "fe6ccb76-7464-4807-b914-72587c7b0e21"
      },
      "source": [
        "# plot train and validation loss\n",
        "plt.plot(hist.history['loss'])\n",
        "plt.plot(hist.history['val_loss'])\n",
        "plt.title('LSTM model train vs validation loss')\n",
        "plt.ylabel('loss')\n",
        "plt.xlabel('epoch')\n",
        "plt.legend(['train', 'validation'], loc='upper right')\n",
        "plt.savefig('LSTM_loss.png')\n",
        "plt.show()"
      ],
      "execution_count": 118,
      "outputs": [
        {
          "output_type": "display_data",
          "data": {
            "image/png": "[encoded data removed]",
            "text/plain": [
              "<Figure size 432x288 with 1 Axes>"
            ]
          },
          "metadata": {
            "tags": [],
            "needs_background": "light"
          }
        }
      ]
    },
    {
      "cell_type": "code",
      "metadata": {
        "id": "gHQC8aMPyk-0",
        "colab_type": "code",
        "colab": {
          "base_uri": "https://localhost:8080/",
          "height": 295
        },
        "outputId": "557997b2-bc20-43fb-9a10-8670502c247f"
      },
      "source": [
        "plt.plot(hist.history['accuracy'])\n",
        "plt.plot(hist.history['val_accuracy'])\n",
        "plt.title('LSTM model train vs validation accuracy')\n",
        "plt.ylabel('accuracy')\n",
        "plt.xlabel('epoch')\n",
        "plt.legend(['train', 'validation'], loc='upper right')\n",
        "plt.savefig('LSTM_accuracy.png')\n",
        "plt.show()"
      ],
      "execution_count": 119,
      "outputs": [
        {
          "output_type": "display_data",
          "data": {
            "image/png": "[encoded data removed]",
            "text/plain": [
              "<Figure size 432x288 with 1 Axes>"
            ]
          },
          "metadata": {
            "tags": [],
            "needs_background": "light"
          }
        }
      ]
    },
    {
      "cell_type": "code",
      "metadata": {
        "id": "Ep0RB7e6tMSq",
        "colab_type": "code",
        "colab": {
          "base_uri": "https://localhost:8080/",
          "height": 34
        },
        "outputId": "77250f6d-91d8-4704-f10a-eab23b84456e"
      },
      "source": [
        "result = model.evaluate(X_test,Y_test)"
      ],
      "execution_count": 92,
      "outputs": [
        {
          "output_type": "stream",
          "text": [
            "15000/15000 [==============================] - 90s 6ms/step\n"
          ],
          "name": "stdout"
        }
      ]
    },
    {
      "cell_type": "code",
      "metadata": {
        "id": "clnfK4pstDTH",
        "colab_type": "code",
        "colab": {
          "base_uri": "https://localhost:8080/",
          "height": 34
        },
        "outputId": "97f68778-948e-425d-ab92-ec0e9a09b5c6"
      },
      "source": [
        "print(result[1]*100)"
      ],
      "execution_count": 93,
      "outputs": [
        {
          "output_type": "stream",
          "text": [
            "89.43333625793457\n"
          ],
          "name": "stdout"
        }
      ]
    },
    {
      "cell_type": "code",
      "metadata": {
        "id": "J9n3WDibSnWq",
        "colab_type": "code",
        "colab": {
          "base_uri": "https://localhost:8080/",
          "height": 50
        },
        "outputId": "7ee060c3-c3a1-433c-e558-93547f16a1c1"
      },
      "source": [
        "Y_pred = model.predict_classes(X_test,batch_size = 512)\n",
        "matrix = confusion_matrix(Y_test, Y_pred)\n",
        "matrix"
      ],
      "execution_count": 94,
      "outputs": [
        {
          "output_type": "execute_result",
          "data": {
            "text/plain": [
              "array([[7038,  553],\n",
              "       [1032, 6377]])"
            ]
          },
          "metadata": {
            "tags": []
          },
          "execution_count": 94
        }
      ]
    },
    {
      "cell_type": "code",
      "metadata": {
        "id": "864pDvy7UVvk",
        "colab_type": "code",
        "colab": {
          "base_uri": "https://localhost:8080/",
          "height": 168
        },
        "outputId": "6f8a7c40-79c6-4561-f30c-0be92f2cb460"
      },
      "source": [
        "print(classification_report(Y_test, Y_pred))"
      ],
      "execution_count": 95,
      "outputs": [
        {
          "output_type": "stream",
          "text": [
            "              precision    recall  f1-score   support\n",
            "\n",
            "           0       0.87      0.93      0.90      7591\n",
            "           1       0.92      0.86      0.89      7409\n",
            "\n",
            "    accuracy                           0.89     15000\n",
            "   macro avg       0.90      0.89      0.89     15000\n",
            "weighted avg       0.90      0.89      0.89     15000\n",
            "\n"
          ],
          "name": "stdout"
        }
      ]
    },
    {
      "cell_type": "code",
      "metadata": {
        "id": "wl0woZNPD9xM",
        "colab_type": "code",
        "colab": {
          "base_uri": "https://localhost:8080/",
          "height": 50
        },
        "outputId": "5abc4328-01eb-4989-b219-624250591a3c"
      },
      "source": [
        "# To reload trained model\n",
        "\n",
        "# load json and create model\n",
        "json_file = open('model.json', 'r')\n",
        "loaded_model_json = json_file.read()\n",
        "json_file.close()\n",
        "loaded_model = model_from_json(loaded_model_json)\n",
        "\n",
        "# load weights into new model\n",
        "loaded_model.load_weights(\"model.h5\")\n",
        "print(\"Loaded model from disk\")\n",
        " \n",
        "# evaluate loaded model on test data\n",
        "loaded_model.compile(loss='sparse_categorical_crossentropy', optimizer='adam', metrics=['accuracy'])\n",
        "score = loaded_model.evaluate(X_test,Y_test, verbose=0)\n",
        "print(\"%s: %.2f%%\" % (loaded_model.metrics_names[1], score[1]*100))"
      ],
      "execution_count": 47,
      "outputs": [
        {
          "output_type": "stream",
          "text": [
            "Loaded model from disk\n",
            "accuracy: 96.37%\n"
          ],
          "name": "stdout"
        }
      ]
    },
    {
      "cell_type": "markdown",
      "metadata": {
        "id": "UD50vZ7OYygg",
        "colab_type": "text"
      },
      "source": [
        "#CNN"
      ]
    },
    {
      "cell_type": "code",
      "metadata": {
        "id": "vA7WvFokS78Z",
        "colab_type": "code",
        "colab": {}
      },
      "source": [
        "model_conv = Sequential()\n",
        "model_conv.add(embedd_layer)\n",
        "model_conv.add(Conv1D(filters=32, kernel_size=3, padding='same', activation='relu'))\n",
        "model_conv.add(MaxPooling1D(pool_size=2))\n",
        "model_conv.add(LSTM(100))\n",
        "model_conv.add(Dense(1, activation='sigmoid'))"
      ],
      "execution_count": 72,
      "outputs": []
    },
    {
      "cell_type": "code",
      "metadata": {
        "id": "B8pLAx2HUZfK",
        "colab_type": "code",
        "colab": {
          "base_uri": "https://localhost:8080/",
          "height": 336
        },
        "outputId": "e1c4eb5d-eb9c-40c1-faeb-fcd3757cbe88"
      },
      "source": [
        "add=Adam(learning_rate=0.01)\n",
        "model_conv.compile(loss='binary_crossentropy', optimizer='adam', metrics=['accuracy'])\n",
        "print(model_conv.summary())"
      ],
      "execution_count": 73,
      "outputs": [
        {
          "output_type": "stream",
          "text": [
            "Model: \"sequential_5\"\n",
            "_________________________________________________________________\n",
            "Layer (type)                 Output Shape              Param #   \n",
            "=================================================================\n",
            "embedding_1 (Embedding)      (None, 1000, 100)         12425300  \n",
            "_________________________________________________________________\n",
            "conv1d_3 (Conv1D)            (None, 1000, 32)          9632      \n",
            "_________________________________________________________________\n",
            "max_pooling1d_3 (MaxPooling1 (None, 500, 32)           0         \n",
            "_________________________________________________________________\n",
            "lstm_4 (LSTM)                (None, 100)               53200     \n",
            "_________________________________________________________________\n",
            "dense_5 (Dense)              (None, 1)                 101       \n",
            "=================================================================\n",
            "Total params: 12,488,233\n",
            "Trainable params: 12,488,233\n",
            "Non-trainable params: 0\n",
            "_________________________________________________________________\n",
            "None\n"
          ],
          "name": "stdout"
        }
      ]
    },
    {
      "cell_type": "code",
      "metadata": {
        "id": "Rr1NtE6VXtTc",
        "colab_type": "code",
        "colab": {
          "base_uri": "https://localhost:8080/",
          "height": 423
        },
        "outputId": "68b29070-aca1-4624-a727-308f6a60ee06"
      },
      "source": [
        "hist_conv=model_conv.fit(X_train, Y_train, epochs=10, batch_size=64, validation_data = (X_test,Y_test))"
      ],
      "execution_count": 74,
      "outputs": [
        {
          "output_type": "stream",
          "text": [
            "/usr/local/lib/python3.6/dist-packages/tensorflow/python/framework/indexed_slices.py:434: UserWarning: Converting sparse IndexedSlices to a dense Tensor of unknown shape. This may consume a large amount of memory.\n",
            "  \"Converting sparse IndexedSlices to a dense Tensor of unknown shape. \"\n"
          ],
          "name": "stderr"
        },
        {
          "output_type": "stream",
          "text": [
            "Train on 35000 samples, validate on 15000 samples\n",
            "Epoch 1/10\n",
            "35000/35000 [==============================] - 626s 18ms/step - loss: 0.2842 - accuracy: 0.8797 - val_loss: 0.2590 - val_accuracy: 0.8963\n",
            "Epoch 2/10\n",
            "35000/35000 [==============================] - 624s 18ms/step - loss: 0.2038 - accuracy: 0.9219 - val_loss: 0.2629 - val_accuracy: 0.8903\n",
            "Epoch 3/10\n",
            "35000/35000 [==============================] - 621s 18ms/step - loss: 0.1830 - accuracy: 0.9315 - val_loss: 0.2831 - val_accuracy: 0.8828\n",
            "Epoch 4/10\n",
            "35000/35000 [==============================] - 622s 18ms/step - loss: 0.1619 - accuracy: 0.9396 - val_loss: 0.2764 - val_accuracy: 0.9033\n",
            "Epoch 5/10\n",
            "35000/35000 [==============================] - 629s 18ms/step - loss: 0.1350 - accuracy: 0.9527 - val_loss: 0.2714 - val_accuracy: 0.9023\n",
            "Epoch 6/10\n",
            "35000/35000 [==============================] - 619s 18ms/step - loss: 0.1110 - accuracy: 0.9625 - val_loss: 0.2887 - val_accuracy: 0.9008\n",
            "Epoch 7/10\n",
            "35000/35000 [==============================] - 615s 18ms/step - loss: 0.0981 - accuracy: 0.9676 - val_loss: 0.3129 - val_accuracy: 0.8979\n",
            "Epoch 8/10\n",
            "35000/35000 [==============================] - 617s 18ms/step - loss: 0.0716 - accuracy: 0.9777 - val_loss: 0.3235 - val_accuracy: 0.8945\n",
            "Epoch 9/10\n",
            "35000/35000 [==============================] - 623s 18ms/step - loss: 0.0608 - accuracy: 0.9814 - val_loss: 0.3790 - val_accuracy: 0.8945\n",
            "Epoch 10/10\n",
            "35000/35000 [==============================] - 618s 18ms/step - loss: 0.0536 - accuracy: 0.9837 - val_loss: 0.3996 - val_accuracy: 0.8958\n"
          ],
          "name": "stdout"
        }
      ]
    },
    {
      "cell_type": "code",
      "metadata": {
        "id": "_KLTlRUNzY3V",
        "colab_type": "code",
        "colab": {
          "base_uri": "https://localhost:8080/",
          "height": 34
        },
        "outputId": "93b01c2b-d3a9-4cc3-a08c-fd1e5ae2e4e8"
      },
      "source": [
        "#Saving Conv model\n",
        "# Serialize model to JSON\n",
        "model_json_conv = model_conv.to_json()\n",
        "with open(\"model_conv.json\", \"w\") as json_file:\n",
        "    json_file.write(model_json_conv)\n",
        "# serialize weights to HDF5\n",
        "model_conv.save_weights(\"model_conv.h5\")\n",
        "print(\"Saved model to disk\")"
      ],
      "execution_count": 75,
      "outputs": [
        {
          "output_type": "stream",
          "text": [
            "Saved model to disk\n"
          ],
          "name": "stdout"
        }
      ]
    },
    {
      "cell_type": "code",
      "metadata": {
        "id": "cT65p-BNVwLr",
        "colab_type": "code",
        "colab": {
          "base_uri": "https://localhost:8080/",
          "height": 295
        },
        "outputId": "c039c47a-d307-434d-eec4-deec40bf7a2b"
      },
      "source": [
        "# plot train and validation loss\n",
        "plt.plot(hist_conv.history['loss'])\n",
        "plt.plot(hist_conv.history['val_loss'])\n",
        "plt.title('CNN model train vs validation loss')\n",
        "plt.ylabel('loss')\n",
        "plt.xlabel('epoch')\n",
        "plt.legend(['train loss', 'validation loss'], loc='upper right')\n",
        "plt.savefig('CNN_loss.png')\n",
        "plt.show()"
      ],
      "execution_count": 121,
      "outputs": [
        {
          "output_type": "display_data",
          "data": {
            "image/png": "[encoded data removed]",
            "text/plain": [
              "<Figure size 432x288 with 1 Axes>"
            ]
          },
          "metadata": {
            "tags": [],
            "needs_background": "light"
          }
        }
      ]
    },
    {
      "cell_type": "code",
      "metadata": {
        "id": "kngG0f0JzD3y",
        "colab_type": "code",
        "colab": {
          "base_uri": "https://localhost:8080/",
          "height": 295
        },
        "outputId": "492b9074-8fed-46f1-c09a-d09fa489c448"
      },
      "source": [
        "plt.plot(hist_conv.history['accuracy'])\n",
        "plt.plot(hist_conv.history['val_accuracy'])\n",
        "plt.title('CNN model train vs validation accuracy')\n",
        "plt.ylabel('accuracy')\n",
        "plt.xlabel('epoch')\n",
        "plt.legend(['train accuracy', 'validation accuracy'], loc='upper right')\n",
        "plt.savefig('CNN_accuracy.png')\n",
        "plt.show()"
      ],
      "execution_count": 120,
      "outputs": [
        {
          "output_type": "display_data",
          "data": {
            "image/png": "[encoded data removed]",
            "text/plain": [
              "<Figure size 432x288 with 1 Axes>"
            ]
          },
          "metadata": {
            "tags": [],
            "needs_background": "light"
          }
        }
      ]
    },
    {
      "cell_type": "code",
      "metadata": {
        "id": "KlQwO_wUUgrk",
        "colab_type": "code",
        "colab": {
          "base_uri": "https://localhost:8080/",
          "height": 34
        },
        "outputId": "58abdb1c-ac7e-48e2-c2f0-575f888f131c"
      },
      "source": [
        "# Final evaluation of the model\n",
        "scores = model_conv.evaluate(X_test, Y_test, verbose=0)\n",
        "print(\"Accuracy: %.2f%%\" % (scores[1]*100))"
      ],
      "execution_count": 81,
      "outputs": [
        {
          "output_type": "stream",
          "text": [
            "Accuracy: 89.58%\n"
          ],
          "name": "stdout"
        }
      ]
    },
    {
      "cell_type": "code",
      "metadata": {
        "id": "HeXK5DumTJQ6",
        "colab_type": "code",
        "colab": {
          "base_uri": "https://localhost:8080/",
          "height": 50
        },
        "outputId": "1dd2bd5d-0fa5-4c17-cc2a-6491526800f3"
      },
      "source": [
        "Y_pred = model_conv.predict_classes(X_test,batch_size = 64)\n",
        "matrix = confusion_matrix(Y_test, Y_pred)\n",
        "matrix"
      ],
      "execution_count": 82,
      "outputs": [
        {
          "output_type": "execute_result",
          "data": {
            "text/plain": [
              "array([[6793,  798],\n",
              "       [ 765, 6644]])"
            ]
          },
          "metadata": {
            "tags": []
          },
          "execution_count": 82
        }
      ]
    },
    {
      "cell_type": "code",
      "metadata": {
        "id": "BkQ-7Q8jUS41",
        "colab_type": "code",
        "colab": {
          "base_uri": "https://localhost:8080/",
          "height": 168
        },
        "outputId": "1a08fe10-80a4-4147-894b-9e6cd239bcf0"
      },
      "source": [
        "print(classification_report(Y_test, Y_pred))"
      ],
      "execution_count": 83,
      "outputs": [
        {
          "output_type": "stream",
          "text": [
            "              precision    recall  f1-score   support\n",
            "\n",
            "           0       0.90      0.89      0.90      7591\n",
            "           1       0.89      0.90      0.89      7409\n",
            "\n",
            "    accuracy                           0.90     15000\n",
            "   macro avg       0.90      0.90      0.90     15000\n",
            "weighted avg       0.90      0.90      0.90     15000\n",
            "\n"
          ],
          "name": "stdout"
        }
      ]
    },
    {
      "cell_type": "code",
      "metadata": {
        "id": "vt70SpUrU62A",
        "colab_type": "code",
        "colab": {}
      },
      "source": [
        "# To reload trained model\n",
        "# load json and create model\n",
        "json_file = open('model_conv.json', 'r')\n",
        "loaded_model_conv_json = json_file.read()\n",
        "json_file.close()\n",
        "loaded_model = model_from_json(loaded_model_conv_json)\n",
        "\n",
        "# load weights into new model\n",
        "loaded_model.load_weights(\"model_conv.h5\")\n",
        "print(\"Loaded model from disk\")\n",
        " \n",
        "# evaluate loaded model on test data\n",
        "loaded_model.compile(loss='binary_crossentropy', optimizer='adam', metrics=['accuracy'])\n",
        "score = loaded_model.evaluate(X_test,Y_test, verbose=0)\n",
        "print(\"%s: %.2f%%\" % (loaded_model.metrics_names[1], score[1]*100))"
      ],
      "execution_count": null,
      "outputs": []
    },
    {
      "cell_type": "markdown",
      "metadata": {
        "id": "lj0L_g1EY_Sq",
        "colab_type": "text"
      },
      "source": [
        "#GRU"
      ]
    },
    {
      "cell_type": "code",
      "metadata": {
        "id": "KBPUXid1YWub",
        "colab_type": "code",
        "colab": {
          "base_uri": "https://localhost:8080/",
          "height": 286
        },
        "outputId": "97cda5f8-b3d1-4378-d90a-6bf17bc15b0c"
      },
      "source": [
        "model_GRU = Sequential()\n",
        "model_GRU.add(embedd_layer)\n",
        "model_GRU.add(GRU(32, dropout=0.2, recurrent_dropout=0.2))\n",
        "model_GRU.add(Dense(32))\n",
        "model_GRU.add(Dense(1, activation='sigmoid'))"
      ],
      "execution_count": 126,
      "outputs": [
        {
          "output_type": "stream",
          "text": [
            "Model: \"sequential_14\"\n",
            "_________________________________________________________________\n",
            "Layer (type)                 Output Shape              Param #   \n",
            "=================================================================\n",
            "embedding_1 (Embedding)      (None, 1000, 100)         12425300  \n",
            "_________________________________________________________________\n",
            "gru_3 (GRU)                  (None, 32)                12768     \n",
            "_________________________________________________________________\n",
            "dense_27 (Dense)             (None, 32)                1056      \n",
            "_________________________________________________________________\n",
            "dense_28 (Dense)             (None, 2)                 66        \n",
            "=================================================================\n",
            "Total params: 12,439,190\n",
            "Trainable params: 12,439,190\n",
            "Non-trainable params: 0\n",
            "_________________________________________________________________\n"
          ],
          "name": "stdout"
        }
      ]
    },
    {
      "cell_type": "code",
      "metadata": {
        "id": "AwlNS86Jy0At",
        "colab_type": "code",
        "colab": {}
      },
      "source": [
        "add=Adam(learning_rate=0.01)\n",
        "model_GRU.compile(loss='binary_crossentropy', optimizer=add, metrics=['accuracy'])\n",
        "model_GRU.summary()"
      ],
      "execution_count": null,
      "outputs": []
    },
    {
      "cell_type": "code",
      "metadata": {
        "id": "lj6_v81Mh9_S",
        "colab_type": "code",
        "colab": {
          "base_uri": "https://localhost:8080/",
          "height": 303
        },
        "outputId": "2d814258-a359-4f56-9611-e9089a74ff80"
      },
      "source": [
        "model_GRU.fit(X_train, Y_train, validation_data=(X_test, Y_test), epochs=10, batch_size=128, verbose=1)"
      ],
      "execution_count": 127,
      "outputs": [
        {
          "output_type": "error",
          "ename": "ValueError",
          "evalue": "ignored",
          "traceback": [
            "\u001b[0;31m---------------------------------------------------------------------------\u001b[0m",
            "\u001b[0;31mValueError\u001b[0m                                Traceback (most recent call last)",
            "\u001b[0;32m<ipython-input-127-9167fd112d8e>\u001b[0m in \u001b[0;36m<module>\u001b[0;34m()\u001b[0m\n\u001b[0;32m----> 1\u001b[0;31m \u001b[0mmodel_GRU\u001b[0m\u001b[0;34m.\u001b[0m\u001b[0mfit\u001b[0m\u001b[0;34m(\u001b[0m\u001b[0mX_train\u001b[0m\u001b[0;34m,\u001b[0m \u001b[0mY_train\u001b[0m\u001b[0;34m,\u001b[0m \u001b[0mvalidation_data\u001b[0m\u001b[0;34m=\u001b[0m\u001b[0;34m(\u001b[0m\u001b[0mX_test\u001b[0m\u001b[0;34m,\u001b[0m \u001b[0mY_test\u001b[0m\u001b[0;34m)\u001b[0m\u001b[0;34m,\u001b[0m \u001b[0mepochs\u001b[0m\u001b[0;34m=\u001b[0m\u001b[0;36m10\u001b[0m\u001b[0;34m,\u001b[0m \u001b[0mbatch_size\u001b[0m\u001b[0;34m=\u001b[0m\u001b[0;36m128\u001b[0m\u001b[0;34m,\u001b[0m \u001b[0mverbose\u001b[0m\u001b[0;34m=\u001b[0m\u001b[0;36m1\u001b[0m\u001b[0;34m)\u001b[0m\u001b[0;34m\u001b[0m\u001b[0;34m\u001b[0m\u001b[0m\n\u001b[0m",
            "\u001b[0;32m/usr/local/lib/python3.6/dist-packages/keras/engine/training.py\u001b[0m in \u001b[0;36mfit\u001b[0;34m(self, x, y, batch_size, epochs, verbose, callbacks, validation_split, validation_data, shuffle, class_weight, sample_weight, initial_epoch, steps_per_epoch, validation_steps, validation_freq, max_queue_size, workers, use_multiprocessing, **kwargs)\u001b[0m\n\u001b[1;32m   1152\u001b[0m             \u001b[0msample_weight\u001b[0m\u001b[0;34m=\u001b[0m\u001b[0msample_weight\u001b[0m\u001b[0;34m,\u001b[0m\u001b[0;34m\u001b[0m\u001b[0;34m\u001b[0m\u001b[0m\n\u001b[1;32m   1153\u001b[0m             \u001b[0mclass_weight\u001b[0m\u001b[0;34m=\u001b[0m\u001b[0mclass_weight\u001b[0m\u001b[0;34m,\u001b[0m\u001b[0;34m\u001b[0m\u001b[0;34m\u001b[0m\u001b[0m\n\u001b[0;32m-> 1154\u001b[0;31m             batch_size=batch_size)\n\u001b[0m\u001b[1;32m   1155\u001b[0m \u001b[0;34m\u001b[0m\u001b[0m\n\u001b[1;32m   1156\u001b[0m         \u001b[0;31m# Prepare validation data.\u001b[0m\u001b[0;34m\u001b[0m\u001b[0;34m\u001b[0m\u001b[0;34m\u001b[0m\u001b[0m\n",
            "\u001b[0;32m/usr/local/lib/python3.6/dist-packages/keras/engine/training.py\u001b[0m in \u001b[0;36m_standardize_user_data\u001b[0;34m(self, x, y, sample_weight, class_weight, check_array_lengths, batch_size)\u001b[0m\n\u001b[1;32m    619\u001b[0m                 \u001b[0mfeed_output_shapes\u001b[0m\u001b[0;34m,\u001b[0m\u001b[0;34m\u001b[0m\u001b[0;34m\u001b[0m\u001b[0m\n\u001b[1;32m    620\u001b[0m                 \u001b[0mcheck_batch_axis\u001b[0m\u001b[0;34m=\u001b[0m\u001b[0;32mFalse\u001b[0m\u001b[0;34m,\u001b[0m  \u001b[0;31m# Don't enforce the batch size.\u001b[0m\u001b[0;34m\u001b[0m\u001b[0;34m\u001b[0m\u001b[0m\n\u001b[0;32m--> 621\u001b[0;31m                 exception_prefix='target')\n\u001b[0m\u001b[1;32m    622\u001b[0m \u001b[0;34m\u001b[0m\u001b[0m\n\u001b[1;32m    623\u001b[0m             \u001b[0;31m# Generate sample-wise weight values given the `sample_weight` and\u001b[0m\u001b[0;34m\u001b[0m\u001b[0;34m\u001b[0m\u001b[0;34m\u001b[0m\u001b[0m\n",
            "\u001b[0;32m/usr/local/lib/python3.6/dist-packages/keras/engine/training_utils.py\u001b[0m in \u001b[0;36mstandardize_input_data\u001b[0;34m(data, names, shapes, check_batch_axis, exception_prefix)\u001b[0m\n\u001b[1;32m    143\u001b[0m                             \u001b[0;34m': expected '\u001b[0m \u001b[0;34m+\u001b[0m \u001b[0mnames\u001b[0m\u001b[0;34m[\u001b[0m\u001b[0mi\u001b[0m\u001b[0;34m]\u001b[0m \u001b[0;34m+\u001b[0m \u001b[0;34m' to have shape '\u001b[0m \u001b[0;34m+\u001b[0m\u001b[0;34m\u001b[0m\u001b[0;34m\u001b[0m\u001b[0m\n\u001b[1;32m    144\u001b[0m                             \u001b[0mstr\u001b[0m\u001b[0;34m(\u001b[0m\u001b[0mshape\u001b[0m\u001b[0;34m)\u001b[0m \u001b[0;34m+\u001b[0m \u001b[0;34m' but got array with shape '\u001b[0m \u001b[0;34m+\u001b[0m\u001b[0;34m\u001b[0m\u001b[0;34m\u001b[0m\u001b[0m\n\u001b[0;32m--> 145\u001b[0;31m                             str(data_shape))\n\u001b[0m\u001b[1;32m    146\u001b[0m     \u001b[0;32mreturn\u001b[0m \u001b[0mdata\u001b[0m\u001b[0;34m\u001b[0m\u001b[0;34m\u001b[0m\u001b[0m\n\u001b[1;32m    147\u001b[0m \u001b[0;34m\u001b[0m\u001b[0m\n",
            "\u001b[0;31mValueError\u001b[0m: Error when checking target: expected dense_28 to have shape (2,) but got array with shape (1,)"
          ]
        }
      ]
    },
    {
      "cell_type": "code",
      "metadata": {
        "id": "x8uKlNA-nG1h",
        "colab_type": "code",
        "colab": {}
      },
      "source": [
        "Y_pred = model.predict_classes(X_test,batch_size = 500)\n",
        "confusion_matrix(Y_test, Y_pred)"
      ],
      "execution_count": null,
      "outputs": []
    },
    {
      "cell_type": "code",
      "metadata": {
        "id": "rfJ35ZSQRTEc",
        "colab_type": "code",
        "colab": {}
      },
      "source": [
        "print(classification_report(Y_test, Y_pred))"
      ],
      "execution_count": null,
      "outputs": []
    }
  ]
}